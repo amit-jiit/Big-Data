{
 "cells": [
  {
   "cell_type": "code",
   "execution_count": 3,
   "id": "4828a8db",
   "metadata": {},
   "outputs": [],
   "source": [
    "from pyspark.sql import SparkSession\n",
    "import pyspark.sql.functions as f"
   ]
  },
  {
   "cell_type": "code",
   "execution_count": 5,
   "id": "b4bb9a8f",
   "metadata": {},
   "outputs": [],
   "source": [
    "spark = SparkSession.builder.appName(\"CSVLoadjuly\").getOrCreate()"
   ]
  },
  {
   "cell_type": "code",
   "execution_count": 6,
   "id": "b8423403",
   "metadata": {},
   "outputs": [],
   "source": [
    "df = spark.read.csv(path=\"july.csv\",sep=\",\",header = True,quote='\"',inferSchema = True)"
   ]
  },
  {
   "cell_type": "code",
   "execution_count": 7,
   "id": "2990ad47",
   "metadata": {
    "scrolled": false
   },
   "outputs": [
    {
     "name": "stdout",
     "output_type": "stream",
     "text": [
      "+--------+--------------------+--------+--------------------+--------------------+--------+---------+-------+--------------------+------------+--------------------+--------------+------+----------------+--------+--------------------+--------------------+--------------------+-----+\n",
      "|cord_uid|                 sha|source_x|               title|                 doi|   pmcid|pubmed_id|license|            abstract|publish_time|             authors|       journal|mag_id|who_covidence_id|arxiv_id|      pdf_json_files|      pmc_json_files|                 url|s2_id|\n",
      "+--------+--------------------+--------+--------------------+--------------------+--------+---------+-------+--------------------+------------+--------------------+--------------+------+----------------+--------+--------------------+--------------------+--------------------+-----+\n",
      "|ug7v899j|d1aafb70c066a2068...|     PMC|Clinical features...|10.1186/1471-2334...|PMC35282| 11472636|  no-cc|OBJECTIVE: This r...|  2001-07-04|Madani, Tariq A; ...|BMC Infect Dis|  null|            null|    null|document_parses/p...|document_parses/p...|https://www.ncbi....| null|\n",
      "+--------+--------------------+--------+--------------------+--------------------+--------+---------+-------+--------------------+------------+--------------------+--------------+------+----------------+--------+--------------------+--------------------+--------------------+-----+\n",
      "only showing top 1 row\n",
      "\n"
     ]
    }
   ],
   "source": [
    "df.show(1)"
   ]
  },
  {
   "cell_type": "code",
   "execution_count": 8,
   "id": "96c96796",
   "metadata": {},
   "outputs": [
    {
     "name": "stdout",
     "output_type": "stream",
     "text": [
      "root\n",
      " |-- cord_uid: string (nullable = true)\n",
      " |-- sha: string (nullable = true)\n",
      " |-- source_x: string (nullable = true)\n",
      " |-- title: string (nullable = true)\n",
      " |-- doi: string (nullable = true)\n",
      " |-- pmcid: string (nullable = true)\n",
      " |-- pubmed_id: string (nullable = true)\n",
      " |-- license: string (nullable = true)\n",
      " |-- abstract: string (nullable = true)\n",
      " |-- publish_time: string (nullable = true)\n",
      " |-- authors: string (nullable = true)\n",
      " |-- journal: string (nullable = true)\n",
      " |-- mag_id: string (nullable = true)\n",
      " |-- who_covidence_id: string (nullable = true)\n",
      " |-- arxiv_id: string (nullable = true)\n",
      " |-- pdf_json_files: string (nullable = true)\n",
      " |-- pmc_json_files: string (nullable = true)\n",
      " |-- url: string (nullable = true)\n",
      " |-- s2_id: string (nullable = true)\n",
      "\n"
     ]
    }
   ],
   "source": [
    "df.printSchema()"
   ]
  },
  {
   "cell_type": "code",
   "execution_count": 9,
   "id": "f2a68bb8",
   "metadata": {},
   "outputs": [
    {
     "data": {
      "text/plain": [
       "169821"
      ]
     },
     "execution_count": 9,
     "metadata": {},
     "output_type": "execute_result"
    }
   ],
   "source": [
    "df.count()\n"
   ]
  },
  {
   "cell_type": "code",
   "execution_count": 10,
   "id": "95e5df2c",
   "metadata": {
    "scrolled": true
   },
   "outputs": [
    {
     "data": {
      "text/plain": [
       "['cord_uid',\n",
       " 'sha',\n",
       " 'source_x',\n",
       " 'title',\n",
       " 'doi',\n",
       " 'pmcid',\n",
       " 'pubmed_id',\n",
       " 'license',\n",
       " 'abstract',\n",
       " 'publish_time',\n",
       " 'authors',\n",
       " 'journal',\n",
       " 'mag_id',\n",
       " 'who_covidence_id',\n",
       " 'arxiv_id',\n",
       " 'pdf_json_files',\n",
       " 'pmc_json_files',\n",
       " 'url',\n",
       " 's2_id']"
      ]
     },
     "execution_count": 10,
     "metadata": {},
     "output_type": "execute_result"
    }
   ],
   "source": [
    "df.columns"
   ]
  },
  {
   "cell_type": "code",
   "execution_count": 12,
   "id": "fbeb3081",
   "metadata": {},
   "outputs": [
    {
     "name": "stdout",
     "output_type": "stream",
     "text": [
      "+-------+--------+\n",
      "|summary|cord_uid|\n",
      "+-------+--------+\n",
      "|  count|  169821|\n",
      "|   mean|Infinity|\n",
      "| stddev|     NaN|\n",
      "|    min|000ahtxm|\n",
      "|    max|zzzlzo0y|\n",
      "+-------+--------+\n",
      "\n",
      "+-------+--------------------+\n",
      "|summary|                 sha|\n",
      "+-------+--------------------+\n",
      "|  count|               74118|\n",
      "|   mean|                null|\n",
      "| stddev|                null|\n",
      "|    min|0001418189999fea7...|\n",
      "|    max|ffff2fb21d4880b63...|\n",
      "+-------+--------------------+\n",
      "\n",
      "+-------+--------+\n",
      "|summary|source_x|\n",
      "+-------+--------+\n",
      "|  count|  169821|\n",
      "|   mean|    null|\n",
      "| stddev|    null|\n",
      "|    min|   ArXiv|\n",
      "|    max|     WHO|\n",
      "+-------+--------+\n",
      "\n",
      "+-------+--------------------+\n",
      "|summary|               title|\n",
      "+-------+--------------------+\n",
      "|  count|              169771|\n",
      "|   mean|                null|\n",
      "| stddev|                null|\n",
      "|    min|\"\"\"A Tiered-Syste...|\n",
      "|    max|﻿﻿﻿﻿﻿﻿﻿﻿﻿﻿﻿﻿﻿﻿Use...|\n",
      "+-------+--------------------+\n",
      "\n",
      "+-------+--------------------+\n",
      "|summary|                 doi|\n",
      "+-------+--------------------+\n",
      "|  count|              127661|\n",
      "|   mean|              2020.0|\n",
      "| stddev|                 0.0|\n",
      "|    min|          (99m)Tc).\"|\n",
      "|    max|896 primary total...|\n",
      "+-------+--------------------+\n",
      "\n",
      "+-------+--------+\n",
      "|summary|   pmcid|\n",
      "+-------+--------+\n",
      "|  count|   80489|\n",
      "|   mean|    null|\n",
      "| stddev|    null|\n",
      "|    min|  2011.\"|\n",
      "|    max|PMC99087|\n",
      "+-------+--------+\n",
      "\n",
      "+-------+--------------------+\n",
      "|summary|           pubmed_id|\n",
      "+-------+--------------------+\n",
      "|  count|              111157|\n",
      "|   mean|2.5864608963884264E7|\n",
      "| stddev|   7317371.442389477|\n",
      "|    min|            2016\"\".\"|\n",
      "|    max|x.doi.org/10.1093...|\n",
      "+-------+--------------------+\n",
      "\n",
      "+-------+-----------------+\n",
      "|summary|          license|\n",
      "+-------+-----------------+\n",
      "|  count|           169694|\n",
      "|   mean|    2.989799172E7|\n",
      "| stddev|4623947.927681638|\n",
      "|    min|   Sabbatinelli J|\n",
      "|    max|              unk|\n",
      "+-------+-----------------+\n",
      "\n",
      "+-------+---------------------+\n",
      "|summary|             abstract|\n",
      "+-------+---------------------+\n",
      "|  count|               123954|\n",
      "|   mean|         2.71753142E7|\n",
      "| stddev|    5739446.547947458|\n",
      "|    min|  Khan JS. Optimiz...|\n",
      "|    max|：Vesicovaginal fi...|\n",
      "+-------+---------------------+\n",
      "\n",
      "+-------+------------------+\n",
      "|summary|      publish_time|\n",
      "+-------+------------------+\n",
      "|  count|            169711|\n",
      "|   mean|3087.9584229497495|\n",
      "| stddev|  166101.650403088|\n",
      "|    min|      \"\"1\"\": 1-25%|\n",
      "|    max|                 ”|\n",
      "+-------+------------------+\n",
      "\n",
      "+-------+----------------------+\n",
      "|summary|               authors|\n",
      "+-------+----------------------+\n",
      "|  count|                163844|\n",
      "|   mean|    1948.3785046728972|\n",
      "| stddev|     360.0599093453158|\n",
      "|    min|         \"\"%SUV-high\"\"|\n",
      "|    max|靖博, 礒部; 新吾, 江端|\n",
      "+-------+----------------------+\n",
      "\n",
      "+-------+------------------+\n",
      "|summary|           journal|\n",
      "+-------+------------------+\n",
      "|  count|            160828|\n",
      "|   mean|1877.1947422680414|\n",
      "| stddev|498.45491063975044|\n",
      "|    min|     \"\"3\"\": 51-75%|\n",
      "|    max|    醫學與健康期刊|\n",
      "+-------+------------------+\n",
      "\n",
      "+-------+--------------------+\n",
      "|summary|              mag_id|\n",
      "+-------+--------------------+\n",
      "|  count|                3479|\n",
      "|   mean|          1916.58648|\n",
      "| stddev|   427.5315641448829|\n",
      "|    min| \"\"4\"\": ≥76% of t...|\n",
      "|    max|von Dadelszen, Pe...|\n",
      "+-------+--------------------+\n",
      "\n",
      "+-------+--------------------+\n",
      "|summary|    who_covidence_id|\n",
      "+-------+--------------------+\n",
      "|  count|               38118|\n",
      "|   mean|  1896.0012621359224|\n",
      "| stddev|   464.3063180822356|\n",
      "|    min|         \"\"Alcohol\"\"|\n",
      "|    max|zhou, y.; Pei, F....|\n",
      "+-------+--------------------+\n",
      "\n",
      "+-------+--------------------+\n",
      "|summary|            arxiv_id|\n",
      "+-------+--------------------+\n",
      "|  count|                4824|\n",
      "|   mean|    1948.04154721842|\n",
      "| stddev|   241.7523397412541|\n",
      "|    min|        \"\"COVID 19\"\"|\n",
      "|    max|van Reeth, K; Nau...|\n",
      "+-------+--------------------+\n",
      "\n",
      "+-------+--------------------+\n",
      "|summary|      pdf_json_files|\n",
      "+-------+--------------------+\n",
      "|  count|               76128|\n",
      "|   mean|   1954.557218932039|\n",
      "| stddev|   334.8977037058972|\n",
      "|    min| \"\"Addiction Psyc...|\n",
      "|    max|including viruses...|\n",
      "+-------+--------------------+\n",
      "\n",
      "+-------+------------------+\n",
      "|summary|    pmc_json_files|\n",
      "+-------+------------------+\n",
      "|  count|             60045|\n",
      "|   mean|1918.4012707185627|\n",
      "| stddev| 402.7003339443205|\n",
      "|    min|   \"\"Deaddiction\"\"|\n",
      "|    max|   physics/0607097|\n",
      "+-------+------------------+\n",
      "\n",
      "+-------+--------------------+\n",
      "|summary|                 url|\n",
      "+-------+--------------------+\n",
      "|  count|              140279|\n",
      "|   mean|  1893.3403234810125|\n",
      "| stddev|   456.0788615127562|\n",
      "|    min| \"\"SARS-patient c...|\n",
      "|    max|Øyen, Ole; Lien, ...|\n",
      "+-------+--------------------+\n",
      "\n",
      "+-------+--------------------+\n",
      "|summary|               s2_id|\n",
      "+-------+--------------------+\n",
      "|  count|              141805|\n",
      "|   mean|1.3527454077940622E8|\n",
      "| stddev| 9.524413585258314E7|\n",
      "|    min| \"\"Behavioral add...|\n",
      "|    max|van der Merwe, A;...|\n",
      "+-------+--------------------+\n",
      "\n"
     ]
    }
   ],
   "source": [
    "for col in df.columns:\n",
    "    df.describe([col]).show()"
   ]
  },
  {
   "cell_type": "code",
   "execution_count": 13,
   "id": "320770a6",
   "metadata": {
    "scrolled": true
   },
   "outputs": [
    {
     "name": "stdout",
     "output_type": "stream",
     "text": [
      "cord_uid \t with null values: 0\n",
      "sha \t with null values: 95703\n",
      "source_x \t with null values: 0\n",
      "title \t with null values: 50\n",
      "doi \t with null values: 42160\n",
      "pmcid \t with null values: 89332\n",
      "pubmed_id \t with null values: 58664\n",
      "license \t with null values: 127\n",
      "abstract \t with null values: 45867\n",
      "publish_time \t with null values: 110\n",
      "authors \t with null values: 5977\n",
      "journal \t with null values: 8993\n",
      "mag_id \t with null values: 166342\n",
      "who_covidence_id \t with null values: 131703\n",
      "arxiv_id \t with null values: 164997\n",
      "pdf_json_files \t with null values: 93693\n",
      "pmc_json_files \t with null values: 109776\n",
      "url \t with null values: 29542\n",
      "s2_id \t with null values: 28016\n"
     ]
    }
   ],
   "source": [
    "for col in df.columns:\n",
    "\n",
    "    print(col,\"\\t\",\"with null values:\", df.filter(df[col].isNull()).count())"
   ]
  },
  {
   "cell_type": "code",
   "execution_count": 14,
   "id": "64706160",
   "metadata": {},
   "outputs": [
    {
     "data": {
      "text/plain": [
       "['title', 'abstract', 'publish_time', 'authors', 'journal']"
      ]
     },
     "execution_count": 14,
     "metadata": {},
     "output_type": "execute_result"
    }
   ],
   "source": [
    "columns_to_drop = ['cord_uid','sha','source_x','doi','pmcid','pubmed_id','license','mag_id',\n",
    "                   'who_covidence_id','arxiv_id','pdf_json_files','pmc_json_files','url','s2_id']\n",
    "\n",
    "df2 = df.drop(*columns_to_drop)\n",
    "df2.columns"
   ]
  },
  {
   "cell_type": "code",
   "execution_count": 15,
   "id": "eca73cf4",
   "metadata": {},
   "outputs": [
    {
     "name": "stdout",
     "output_type": "stream",
     "text": [
      "+--------------------+--------------------+------------+--------------------+--------------------+\n",
      "|               title|            abstract|publish_time|             authors|             journal|\n",
      "+--------------------+--------------------+------------+--------------------+--------------------+\n",
      "|Clinical features...|OBJECTIVE: This r...|  2001-07-04|Madani, Tariq A; ...|      BMC Infect Dis|\n",
      "|Nitric oxide: a p...|Inflammatory dise...|  2000-08-15|Vliet, Albert van...|          Respir Res|\n",
      "|Surfactant protei...|Surfactant protei...|  2000-08-25|     Crouch, Erika C|          Respir Res|\n",
      "|Role of endotheli...|Endothelin-1 (ET-...|  2001-02-22|Fagan, Karen A; M...|          Respir Res|\n",
      "|Gene expression i...|Respiratory syncy...|  2001-05-11|Domachowske, Jose...|          Respir Res|\n",
      "|Sequence requirem...|Nidovirus subgeno...|  2001-12-17|Pasternak, Alexan...|    The EMBO Journal|\n",
      "|Debate: Transfusi...|Recent evidence s...|  2001-03-08|Alvarez, Gonzalo;...|           Crit Care|\n",
      "|The 21st Internat...|The 21st Internat...|  2001-05-02|Ball, Jonathan; V...|           Crit Care|\n",
      "|Heme oxygenase-1 ...|Heme oxygenase-1 ...|  2003-08-07|Slebos, Dirk-Jan;...|          Respir Res|\n",
      "|Technical Descrip...|This report descr...|  2003-09-01|Tsui, Fu-Chiang; ...|Journal of the Am...|\n",
      "|Conservation of p...|Regulation of orn...|  2000-04-17|Ivanov, Ivaylo P....|              EMBO J|\n",
      "|Heterogeneous nuc...|Heterogeneous nuc...|  2000-09-01|Shi, Stephanie T....|    The EMBO Journal|\n",
      "|A Method to Ident...|The UBA domain is...|  2003-12-12|Pridgeon, Julia W...|  Biol Proced Online|\n",
      "|Vaccinia virus in...|We examined the r...|  2000-08-01|Ploubidou, Aspasi...|    The EMBO Journal|\n",
      "|The site of origi...|                null|  2004-01-20|       Barry, John M|        J Transl Med|\n",
      "|Multi-faceted, mu...|There are hundred...|  2004-05-26|Shieh, Biehuoy; L...|       Retrovirology|\n",
      "|Herpes simplex vi...|INTRODUCTION: The...|  2004-03-31|Verheij, Joanne; ...|           Crit Care|\n",
      "|Logistics of comm...|BACKGROUND: Previ...|  2004-08-06|Porco, Travis C; ...|   BMC Public Health|\n",
      "|Protection of pul...|BACKGROUND: Oxyge...|  2004-09-27|Kremer, Ted M; Ri...|          Respir Res|\n",
      "|Bioinformatic map...|BACKGROUND: AlkB-...|  2005-01-03|Bratlie, Marit S;...|        BMC Genomics|\n",
      "+--------------------+--------------------+------------+--------------------+--------------------+\n",
      "only showing top 20 rows\n",
      "\n"
     ]
    }
   ],
   "source": [
    "df2=df2.dropDuplicates()\n",
    "df2.count()\n",
    "df2.show(5)"
   ]
  },
  {
   "cell_type": "markdown",
   "id": "724269fe",
   "metadata": {},
   "source": [
    "#### Problem 1: Find the 5 most common journals, list them along with their frequencies."
   ]
  },
  {
   "cell_type": "code",
   "execution_count": 18,
   "id": "b7c45b1f",
   "metadata": {},
   "outputs": [
    {
     "name": "stdout",
     "output_type": "stream",
     "text": [
      "+-------------------+-----+\n",
      "|            journal|count|\n",
      "+-------------------+-----+\n",
      "|           PLoS One| 1774|\n",
      "|            bioRxiv| 1669|\n",
      "|                BMJ| 1594|\n",
      "|Journal of virology| 1561|\n",
      "|             Lancet|  941|\n",
      "+-------------------+-----+\n",
      "only showing top 5 rows\n",
      "\n"
     ]
    }
   ],
   "source": [
    "df_journal_count = df2.select(\"journal\").groupBy(\"journal\").count()\n",
    "\n",
    "df_journal_count = df_journal_count.na.drop()\n",
    "\n",
    "df_journal_count.sort(\"count\",ascending= False).show(5)\n"
   ]
  },
  {
   "cell_type": "markdown",
   "id": "1c82db46",
   "metadata": {},
   "source": [
    "#### problem 2 The top 5 average abstract lengths (number of words) per journal."
   ]
  },
  {
   "cell_type": "code",
   "execution_count": 20,
   "id": "9cc3cdf7",
   "metadata": {},
   "outputs": [
    {
     "name": "stdout",
     "output_type": "stream",
     "text": [
      "+-----------------+--------------------+\n",
      "|          journal|            abstract|\n",
      "+-----------------+--------------------+\n",
      "|      PLoS Pathog|The type I interf...|\n",
      "|         PLoS One|Reverse transcrip...|\n",
      "|Nucleic Acids Res|Fast viral adapta...|\n",
      "|         PLoS One|Type I interferon...|\n",
      "|         PLoS One|BACKGROUND: As of...|\n",
      "+-----------------+--------------------+\n",
      "only showing top 5 rows\n",
      "\n"
     ]
    }
   ],
   "source": [
    "df_journal = df2.select(\"journal\",\"abstract\")\n",
    "df_journal = df_journal.na.drop()\n",
    "df_journal.show(5)"
   ]
  },
  {
   "cell_type": "code",
   "execution_count": 21,
   "id": "6529992a",
   "metadata": {},
   "outputs": [],
   "source": [
    "#df_journal.groupBy(\"publish_time\").count().show()"
   ]
  },
  {
   "cell_type": "code",
   "execution_count": null,
   "id": "0aff0684",
   "metadata": {},
   "outputs": [],
   "source": []
  },
  {
   "cell_type": "code",
   "execution_count": 22,
   "id": "58553112",
   "metadata": {},
   "outputs": [
    {
     "name": "stdout",
     "output_type": "stream",
     "text": [
      "+--------------------+--------------------+---------+\n",
      "|             journal|            abstract|frequency|\n",
      "+--------------------+--------------------+---------+\n",
      "|World Allergy Org...|A1 Pirfenidone in...|    18000|\n",
      "|  Ann Intensive Care|PHYSICIANS ABSTRA...|    15448|\n",
      "|           Crit Care|P001 - Sepsis imp...|    12745|\n",
      "|        BMC Genomics|O1 Regulation of ...|     4642|\n",
      "|    Int J Infect Dis|Abstract Objectiv...|     3783|\n",
      "+--------------------+--------------------+---------+\n",
      "only showing top 5 rows\n",
      "\n"
     ]
    }
   ],
   "source": [
    "# df_journal2 = df_journal.groupBy(\"publish_time\")\n",
    "df_journal2 = df_journal.withColumn(\"frequency\",f.size(f.split(f.col('abstract'), ' '))).sort(\"frequency\",ascending = False)\n",
    "df_journal2.show(5)"
   ]
  },
  {
   "cell_type": "code",
   "execution_count": 23,
   "id": "c901a39b",
   "metadata": {},
   "outputs": [
    {
     "name": "stdout",
     "output_type": "stream",
     "text": [
      "+-------------------+--------------+\n",
      "|            journal|sum(frequency)|\n",
      "+-------------------+--------------+\n",
      "|           PLoS One|        426190|\n",
      "|Journal of virology|        368256|\n",
      "|            bioRxiv|        345228|\n",
      "| Surgical endoscopy|        227346|\n",
      "|           Virology|        156470|\n",
      "+-------------------+--------------+\n",
      "only showing top 5 rows\n",
      "\n"
     ]
    }
   ],
   "source": [
    "df_journal3 = df_journal2.select(\"journal\",\"frequency\")\n",
    "df_journal3 = df_journal3.groupBy(\"journal\").sum().sort(\"sum(frequency)\",ascending = False)\n",
    "df_journal3.show(5)"
   ]
  },
  {
   "cell_type": "code",
   "execution_count": 24,
   "id": "7284eb8e",
   "metadata": {},
   "outputs": [
    {
     "name": "stdout",
     "output_type": "stream",
     "text": [
      "+--------------------+--------------+-----+\n",
      "|             journal|sum(frequency)|count|\n",
      "+--------------------+--------------+-----+\n",
      "|        0.76; 95% CI|           116|    1|\n",
      "| 2020. Of these w...|            19|    1|\n",
      "| a tracking and r...|           215|    1|\n",
      "| after collecting...|            83|    1|\n",
      "| airborne infections|            78|    1|\n",
      "| and operative ti...|            71|    1|\n",
      "| despite little e...|            88|    1|\n",
      "| drug repurposing...|            83|    1|\n",
      "| given the key ro...|           133|    1|\n",
      "| has also been pr...|            52|    1|\n",
      "+--------------------+--------------+-----+\n",
      "only showing top 10 rows\n",
      "\n"
     ]
    }
   ],
   "source": [
    "# combine Prob 1 with total frequency\n",
    "\n",
    "df_combine = df_journal3.join(df_journal_count,\"journal\",\"outer\").select(\"journal\",\"sum(frequency)\",\"count\")\n",
    "df_combine.show(10)"
   ]
  },
  {
   "cell_type": "code",
   "execution_count": 25,
   "id": "4d64f6c2",
   "metadata": {},
   "outputs": [
    {
     "name": "stdout",
     "output_type": "stream",
     "text": [
      "+--------------------+------------------+\n",
      "|             journal|          Avg_word|\n",
      "+--------------------+------------------+\n",
      "|Absolute Neurocri...|            2232.0|\n",
      "|World Allergy Org...|1795.8181818181818|\n",
      "|Endocrine, metabo...|            1504.0|\n",
      "|National Toxicolo...|           1301.75|\n",
      "|Cochrane Database...| 954.7142857142857|\n",
      "+--------------------+------------------+\n",
      "only showing top 5 rows\n",
      "\n"
     ]
    }
   ],
   "source": [
    "df_combine = df_combine.withColumn(\"Avg_word\",(f.col(\"sum(frequency)\")/f.col(\"count\")))\n",
    "df_combine = df_combine.drop(\"sum(frequency)\",\"count\")\n",
    "df_combine.sort(\"Avg_word\",ascending = False).show(5)"
   ]
  },
  {
   "cell_type": "markdown",
   "id": "b0bc32b9",
   "metadata": {},
   "source": [
    "#### Problem 3: Titles of the 5 papers with the highest numbers of authors. Both the numbers of authors and the corresponding titles need to be output."
   ]
  },
  {
   "cell_type": "code",
   "execution_count": 26,
   "id": "9b6ff549",
   "metadata": {},
   "outputs": [
    {
     "name": "stdout",
     "output_type": "stream",
     "text": [
      "+--------------------+--------------------+\n",
      "|               title|             authors|\n",
      "+--------------------+--------------------+\n",
      "|Influenza A Virus...|Pauli, Eva-K.; Sc...|\n",
      "|The Y271 and I274...|Zhang, Hao-Jie; W...|\n",
      "|PhEVER: a databas...|Palmeira, Leonor;...|\n",
      "|A Vesicular Stoma...|Berger Rentsch, M...|\n",
      "|Geographic Distri...|Liu, Yunning; Wan...|\n",
      "+--------------------+--------------------+\n",
      "only showing top 5 rows\n",
      "\n"
     ]
    }
   ],
   "source": [
    "df_title_auth = df2.select(\"title\",\"authors\")\n",
    "df_title_auth.show(5)"
   ]
  },
  {
   "cell_type": "code",
   "execution_count": 27,
   "id": "39e0956f",
   "metadata": {},
   "outputs": [
    {
     "name": "stdout",
     "output_type": "stream",
     "text": [
      "+--------------------+--------+\n",
      "|               title|Nauthors|\n",
      "+--------------------+--------+\n",
      "|XXIV World Allerg...|    3572|\n",
      "|ESICM LIVES 2016:...|    2621|\n",
      "|ESICM LIVES 2016:...|    2500|\n",
      "|ESICM LIVES 2016:...|    2446|\n",
      "|36th Internationa...|    2440|\n",
      "+--------------------+--------+\n",
      "only showing top 5 rows\n",
      "\n"
     ]
    }
   ],
   "source": [
    "\n",
    "df_title_auth = df_title_auth.withColumn(\"Nauthors\",f.size(f.split(f.col('authors'), ';')))\n",
    "df_title_auth = df_title_auth.drop(\"authors\")\n",
    "df_title_auth.sort(\"Nauthors\",ascending = False).show(5)"
   ]
  },
  {
   "cell_type": "markdown",
   "id": "b46245d0",
   "metadata": {},
   "source": [
    "#### Problem 4: The top 5 most prolific authors along with the number of papers they have contributed to"
   ]
  },
  {
   "cell_type": "code",
   "execution_count": 28,
   "id": "4dfac270",
   "metadata": {},
   "outputs": [
    {
     "name": "stdout",
     "output_type": "stream",
     "text": [
      "+--------------------+--------------------+\n",
      "|             authors|             journal|\n",
      "+--------------------+--------------------+\n",
      "|Pauli, Eva-K.; Sc...|         PLoS Pathog|\n",
      "|Zhang, Hao-Jie; W...|            PLoS One|\n",
      "|Palmeira, Leonor;...|   Nucleic Acids Res|\n",
      "|Berger Rentsch, M...|            PLoS One|\n",
      "|Liu, Yunning; Wan...|            PLoS One|\n",
      "|Gad, Yahia Z.; Mo...|Asian J Transfus Sci|\n",
      "|Phan, Tung Gia; V...|            PLoS One|\n",
      "|Kgaladi, Joe; Wri...|  PLoS Negl Trop Dis|\n",
      "|Ray, Bridgette N....|      Mol Endocrinol|\n",
      "|Wang, Dingming; T...|      J Med Case Rep|\n",
      "|Garg, Shikha; Jai...|      BMC Infect Dis|\n",
      "|Li, Ling; Long, J...|   J Orthop Translat|\n",
      "|Rojek, Amanda M; ...|     Clin Infect Dis|\n",
      "|Balloux, Francois...|    Trends Microbiol|\n",
      "|Wang, Yingchen; D...|     Front Microbiol|\n",
      "|Lee, Cheng-Chung;...|             Sci Rep|\n",
      "|Stenzel, Tomasz; ...|            PLoS One|\n",
      "|ten Hoeve, Arne L...|Front Cell Infect...|\n",
      "|Hulst, M.M.; Here...|    J Appl Microbiol|\n",
      "|Bandosz, Piotr; A...|        Diabetologia|\n",
      "+--------------------+--------------------+\n",
      "only showing top 20 rows\n",
      "\n"
     ]
    }
   ],
   "source": [
    "df_profilic = df2.select(\"authors\",\"journal\")\n",
    "df_profilic.show()"
   ]
  },
  {
   "cell_type": "code",
   "execution_count": 29,
   "id": "8287602b",
   "metadata": {},
   "outputs": [
    {
     "name": "stdout",
     "output_type": "stream",
     "text": [
      "+--------------------+-----------------+\n",
      "|             Authors|          journal|\n",
      "+--------------------+-----------------+\n",
      "|       Pauli, Eva-K.|      PLoS Pathog|\n",
      "|     Schmolke, Mirco|      PLoS Pathog|\n",
      "|     Wolff, Thorsten|      PLoS Pathog|\n",
      "|   Viemann, Dorothee|      PLoS Pathog|\n",
      "|      Roth, Johannes|      PLoS Pathog|\n",
      "|   Bode, Johannes G.|      PLoS Pathog|\n",
      "|     Ludwig, Stephan|      PLoS Pathog|\n",
      "|      Zhang, Hao-Jie|         PLoS One|\n",
      "|    Wang, Yong-Xiang|         PLoS One|\n",
      "|             Wu, Hao|         PLoS One|\n",
      "|       Jin, Dong-Yan|         PLoS One|\n",
      "|         Wen, Yu-Mei|         PLoS One|\n",
      "|      Zheng, Bo-Jian|         PLoS One|\n",
      "|    Palmeira, Leonor|Nucleic Acids Res|\n",
      "|        Penel, Simon|Nucleic Acids Res|\n",
      "|    Lotteau, Vincent|Nucleic Acids Res|\n",
      "|Rabourdin-Combe, ...|Nucleic Acids Res|\n",
      "|  Gautier, Christian|Nucleic Acids Res|\n",
      "|Berger Rentsch, M...|         PLoS One|\n",
      "|        Zimmer, Gert|         PLoS One|\n",
      "+--------------------+-----------------+\n",
      "only showing top 20 rows\n",
      "\n"
     ]
    }
   ],
   "source": [
    "df_profilic2 = df_profilic.withColumn(\"AllAutors\",f.explode(f.split(f.col('authors'), ';')))\n",
    "\n",
    "df_profilic2 = df_profilic2.withColumn(\"Authors\",f.trim(df_profilic2.AllAutors))\n",
    "df_profilic2 = df_profilic2.drop(\"ALLAutors\")\n",
    "df_profilic2.show()"
   ]
  },
  {
   "cell_type": "code",
   "execution_count": 30,
   "id": "420362ec",
   "metadata": {},
   "outputs": [
    {
     "name": "stdout",
     "output_type": "stream",
     "text": [
      "+------------------+-----+\n",
      "|           Authors|count|\n",
      "+------------------+-----+\n",
      "|   Yuen, Kwok-Yung|  254|\n",
      "|Drosten, Christian|  226|\n",
      "|         Wang, Wei|  225|\n",
      "|             O039,|  218|\n",
      "|      Jiang, Shibo|  196|\n",
      "+------------------+-----+\n",
      "only showing top 5 rows\n",
      "\n"
     ]
    }
   ],
   "source": [
    "df_profilic2.groupBy(\"Authors\").count().sort(\"count\",ascending = False).show(5)"
   ]
  },
  {
   "cell_type": "markdown",
   "id": "478d15a3",
   "metadata": {},
   "source": [
    "####  Proble 5: If an author’s H index is computed by summing all the H indexes of the journals they’ve published in (as included in the scimagojr dataset), list the 5 people with the top author H index values. These results use Scimagojr 2019."
   ]
  },
  {
   "cell_type": "code",
   "execution_count": 31,
   "id": "92e92945",
   "metadata": {},
   "outputs": [],
   "source": [
    "# load scimagojor data\n",
    "df_sci = spark.read.csv(path=\"scimagojr.csv\",sep=\";\",header = True,quote='\"',inferSchema = True)\n"
   ]
  },
  {
   "cell_type": "code",
   "execution_count": 32,
   "id": "59937787",
   "metadata": {},
   "outputs": [
    {
     "data": {
      "text/plain": [
       "['Rank',\n",
       " 'Sourceid',\n",
       " 'Title',\n",
       " 'Type',\n",
       " 'Issn',\n",
       " 'SJR',\n",
       " 'SJR Best Quartile',\n",
       " 'H index',\n",
       " 'Total Docs. (2019)',\n",
       " 'Total Docs. (3years)',\n",
       " 'Total Refs.',\n",
       " 'Total Cites (3years)',\n",
       " 'Citable Docs. (3years)',\n",
       " 'Cites / Doc. (2years)',\n",
       " 'Ref. / Doc.',\n",
       " 'Country',\n",
       " 'Region',\n",
       " 'Publisher',\n",
       " 'Coverage',\n",
       " 'Categories']"
      ]
     },
     "execution_count": 32,
     "metadata": {},
     "output_type": "execute_result"
    }
   ],
   "source": [
    "df_sci.columns"
   ]
  },
  {
   "cell_type": "code",
   "execution_count": 33,
   "id": "618393ac",
   "metadata": {},
   "outputs": [
    {
     "name": "stdout",
     "output_type": "stream",
     "text": [
      "+--------------------+-------+\n",
      "|               Title|H index|\n",
      "+--------------------+-------+\n",
      "|CA - A Cancer Jou...|    156|\n",
      "|MMWR. Recommendat...|    138|\n",
      "|Nature Reviews Ma...|     80|\n",
      "|Quarterly Journal...|    246|\n",
      "|Nature Reviews Mo...|    411|\n",
      "+--------------------+-------+\n",
      "only showing top 5 rows\n",
      "\n"
     ]
    }
   ],
   "source": [
    "df_sci2 = df_sci.select(\"Title\",\"H index\",\"Type\")\n",
    "#df_sci2 = df_sci2.filter(df_sci2.Type == \"journal\")\n",
    "df_sci2 = df_sci2.drop(\"Type\")\n",
    "df_sci2.show(5)"
   ]
  },
  {
   "cell_type": "code",
   "execution_count": 34,
   "id": "1f894fdc",
   "metadata": {},
   "outputs": [
    {
     "name": "stdout",
     "output_type": "stream",
     "text": [
      "+--------------------+------------+\n",
      "|               Title|sum(H index)|\n",
      "+--------------------+------------+\n",
      "|              Nature|        1159|\n",
      "|             Science|        1124|\n",
      "|New England Journ...|         987|\n",
      "|          The Lancet|         747|\n",
      "|                Cell|         747|\n",
      "+--------------------+------------+\n",
      "only showing top 5 rows\n",
      "\n"
     ]
    }
   ],
   "source": [
    "df_sci_sum=df_sci2.groupBy(\"Title\").sum()\n",
    "df_sci_sum.sort(\"sum(H index)\",ascending = False).show(5)"
   ]
  },
  {
   "cell_type": "code",
   "execution_count": 35,
   "id": "c4635e96",
   "metadata": {},
   "outputs": [
    {
     "name": "stdout",
     "output_type": "stream",
     "text": [
      "+-----------------+--------------------+\n",
      "|          Authors|               title|\n",
      "+-----------------+--------------------+\n",
      "|    Pauli, Eva-K.|Influenza A Virus...|\n",
      "|  Schmolke, Mirco|Influenza A Virus...|\n",
      "|  Wolff, Thorsten|Influenza A Virus...|\n",
      "|Viemann, Dorothee|Influenza A Virus...|\n",
      "|   Roth, Johannes|Influenza A Virus...|\n",
      "+-----------------+--------------------+\n",
      "only showing top 5 rows\n",
      "\n"
     ]
    }
   ],
   "source": [
    "# preparing dataset for title and author\n",
    "df_title = df2.select(\"authors\",\"title\")\n",
    "\n",
    "df_title = df_title.withColumn(\"AllAuthors\",f.explode(f.split(f.col('authors'), ';')))\n",
    "\n",
    "df_title = df_title.withColumn(\"Authors\",f.trim(df_title.AllAuthors))\n",
    "df_title = df_title.drop(\"ALLAuthors\")\n",
    "df_title.show(5)"
   ]
  },
  {
   "cell_type": "code",
   "execution_count": 36,
   "id": "376d4925",
   "metadata": {},
   "outputs": [
    {
     "name": "stdout",
     "output_type": "stream",
     "text": [
      "+--------------------+--------------------+--------------------+------------+\n",
      "|             Authors|               title|               Title|sum(H index)|\n",
      "+--------------------+--------------------+--------------------+------------+\n",
      "|Christophorou, Lo...|             Science|             Science|        1124|\n",
      "|      Chopra, Angeli|    Gastroenterology|    Gastroenterology|         386|\n",
      "|     Mooney, Sean D.|      Bioinformatics|      Bioinformatics|         363|\n",
      "|     Altman, Russ B.|      Bioinformatics|      Bioinformatics|         363|\n",
      "|     Altman, Russ B.|      Bioinformatics|      Bioinformatics|         363|\n",
      "|Tenenbaum, Jessic...|      Bioinformatics|      Bioinformatics|         363|\n",
      "|     Mooney, Sean D.|      Bioinformatics|      Bioinformatics|         363|\n",
      "|    Barone, Georgina|           Neurology|           Neurology|         351|\n",
      "|McArthur, Donna B...|Emerging Infectio...|Emerging Infectio...|         215|\n",
      "|             Gao, Bo|Emerging Infectio...|Emerging Infectio...|         215|\n",
      "+--------------------+--------------------+--------------------+------------+\n",
      "only showing top 10 rows\n",
      "\n"
     ]
    }
   ],
   "source": [
    "# join two tables\n",
    "\n",
    "df_title_index = df_title.join(df_sci_sum,df_title.title==df_sci_sum.Title,\"inner\")\n",
    "df_title_index.sort(\"sum(H index)\",ascending = False).show(10)"
   ]
  },
  {
   "cell_type": "code",
   "execution_count": 37,
   "id": "af6ab5b7",
   "metadata": {},
   "outputs": [
    {
     "name": "stdout",
     "output_type": "stream",
     "text": [
      "+--------------------+-----------------+\n",
      "|             Authors|sum(sum(H index))|\n",
      "+--------------------+-----------------+\n",
      "|Christophorou, Lo...|             1124|\n",
      "|     Altman, Russ B.|              726|\n",
      "|     Mooney, Sean D.|              726|\n",
      "|      Chopra, Angeli|              386|\n",
      "|Tenenbaum, Jessic...|              363|\n",
      "|    Barone, Georgina|              351|\n",
      "|     Falke, Dietrich|              327|\n",
      "|    Schätzl, Hermann|              327|\n",
      "|     Modrow, Susanne|              327|\n",
      "|         Truyen, Uwe|              327|\n",
      "+--------------------+-----------------+\n",
      "only showing top 10 rows\n",
      "\n"
     ]
    }
   ],
   "source": [
    "df_title_index2 = df_title_index.drop(\"title\",\"Title\")\n",
    "df_title_index2.groupBy(\"Authors\").sum().sort(\"sum(sum(H index))\",ascending = False).show(10)"
   ]
  },
  {
   "cell_type": "code",
   "execution_count": 38,
   "id": "b508cb17",
   "metadata": {},
   "outputs": [
    {
     "name": "stdout",
     "output_type": "stream",
     "text": [
      "+--------------------+----------+\n",
      "|             journal|      Date|\n",
      "+--------------------+----------+\n",
      "|         PLoS Pathog|2008-11-07|\n",
      "|            PLoS One|2009-07-03|\n",
      "|   Nucleic Acids Res|2010-11-16|\n",
      "|            PLoS One|2011-10-05|\n",
      "|            PLoS One|2011-10-12|\n",
      "|Asian J Transfus Sci|2012-01-01|\n",
      "|            PLoS One|2013-09-04|\n",
      "|  PLoS Negl Trop Dis|2013-10-24|\n",
      "|      Mol Endocrinol|2012-05-08|\n",
      "|      J Med Case Rep|2015-05-12|\n",
      "|      BMC Infect Dis|2015-08-26|\n",
      "|   J Orthop Translat|2017-07-17|\n",
      "|     Clin Infect Dis|2018-05-01|\n",
      "|    Trends Microbiol|2018-12-01|\n",
      "|     Front Microbiol|2018-11-27|\n",
      "|             Sci Rep|2019-03-14|\n",
      "|            PLoS One|2019-06-28|\n",
      "|Front Cell Infect...|2019-10-11|\n",
      "|    J Appl Microbiol|2019-04-01|\n",
      "|        Diabetologia|2019-11-15|\n",
      "+--------------------+----------+\n",
      "only showing top 20 rows\n",
      "\n"
     ]
    }
   ],
   "source": [
    "df_vis = df2.select(\"publish_time\",\"journal\",f.to_date(df2.publish_time).alias(\"Date\"))\n",
    "df_vis = df_vis.drop(\"publish_time\")\n",
    "df_vis.show()"
   ]
  },
  {
   "cell_type": "markdown",
   "id": "6d3500b7",
   "metadata": {},
   "source": [
    "#### Problem 6 : Plot the number of papers per month since 2020-01. You need to include your visualization as well as a table of the values you have plotted for each month."
   ]
  },
  {
   "cell_type": "code",
   "execution_count": 39,
   "id": "d7d9aaf4",
   "metadata": {},
   "outputs": [
    {
     "name": "stdout",
     "output_type": "stream",
     "text": [
      "+-----------------+----------+----+-----+\n",
      "|journal          |Date      |Year|Month|\n",
      "+-----------------+----------+----+-----+\n",
      "|PLoS Pathog      |2008-11-07|2008|11   |\n",
      "|PLoS One         |2009-07-03|2009|07   |\n",
      "|Nucleic Acids Res|2010-11-16|2010|11   |\n",
      "|PLoS One         |2011-10-05|2011|10   |\n",
      "|PLoS One         |2011-10-12|2011|10   |\n",
      "+-----------------+----------+----+-----+\n",
      "only showing top 5 rows\n",
      "\n"
     ]
    }
   ],
   "source": [
    "df_vis = df_vis.withColumn(\"Year\",f.split(df_vis.Date,\"-\").getItem(0)).withColumn(\"Month\",f.split(df_vis.Date,\"-\").getItem(1))\n",
    "df_vis.show(5,truncate = False)"
   ]
  },
  {
   "cell_type": "code",
   "execution_count": 40,
   "id": "2d7f4ef0",
   "metadata": {},
   "outputs": [
    {
     "name": "stdout",
     "output_type": "stream",
     "text": [
      "+--------------------+----+-----+\n",
      "|             journal|Year|Month|\n",
      "+--------------------+----+-----+\n",
      "|           Crit Care|2020|   02|\n",
      "|       Int J Mol Sci|2020|   02|\n",
      "|  Int J Health Geogr|2020|   04|\n",
      "|             Virol J|2020|   04|\n",
      "|         Eur Heart J|2020|   02|\n",
      "|           J Nat Med|2020|   01|\n",
      "|              Hernia|2020|   01|\n",
      "|        World J Surg|2020|   04|\n",
      "|Appl Microbiol Bi...|2020|   01|\n",
      "|             Sci Rep|2020|   05|\n",
      "+--------------------+----+-----+\n",
      "only showing top 10 rows\n",
      "\n"
     ]
    }
   ],
   "source": [
    "df_vis = df_vis.filter(df_vis.Year >= 2020)\n",
    "df_vis = df_vis.drop(\"Date\")\n",
    "df_vis.show(10)"
   ]
  },
  {
   "cell_type": "code",
   "execution_count": 41,
   "id": "4e1e31ea",
   "metadata": {},
   "outputs": [
    {
     "name": "stdout",
     "output_type": "stream",
     "text": [
      "+------------------+-------+\n",
      "|           journal|   Date|\n",
      "+------------------+-------+\n",
      "|         Crit Care|2020-02|\n",
      "|     Int J Mol Sci|2020-02|\n",
      "|Int J Health Geogr|2020-04|\n",
      "|           Virol J|2020-04|\n",
      "|       Eur Heart J|2020-02|\n",
      "+------------------+-------+\n",
      "only showing top 5 rows\n",
      "\n"
     ]
    }
   ],
   "source": [
    "df_vis2 = df_vis.select(\"journal\",f.concat(df_vis.Year,f.lit(\"-\"),df_vis.Month).alias(\"Date\"))\n",
    "df_vis2.show(5)"
   ]
  },
  {
   "cell_type": "code",
   "execution_count": 42,
   "id": "c7b69b45",
   "metadata": {},
   "outputs": [
    {
     "name": "stdout",
     "output_type": "stream",
     "text": [
      "+-------+-----+\n",
      "|   Date|count|\n",
      "+-------+-----+\n",
      "|2020-01|29288|\n",
      "|2020-02| 1580|\n",
      "|2020-03| 4301|\n",
      "|2020-04|11597|\n",
      "|2020-05|16974|\n",
      "|2020-06|13218|\n",
      "|2020-07|  200|\n",
      "|2020-08|   61|\n",
      "|2020-09|   22|\n",
      "|2020-10|   16|\n",
      "|2020-11|   13|\n",
      "|2020-12|  294|\n",
      "|2021-12|    2|\n",
      "+-------+-----+\n",
      "\n"
     ]
    }
   ],
   "source": [
    "df_vis3 = df_vis2.groupBy(\"Date\").count().sort(\"Date\")\n",
    "df_vis3.show()"
   ]
  },
  {
   "cell_type": "code",
   "execution_count": 43,
   "id": "f624aec0",
   "metadata": {},
   "outputs": [],
   "source": [
    "import matplotlib.pyplot as plt\n",
    "import pandas as pd"
   ]
  },
  {
   "cell_type": "code",
   "execution_count": 44,
   "id": "b0e6e129",
   "metadata": {},
   "outputs": [],
   "source": [
    "df_pandas = df_vis3.toPandas()\n"
   ]
  },
  {
   "cell_type": "code",
   "execution_count": 45,
   "id": "c83a1476",
   "metadata": {},
   "outputs": [
    {
     "data": {
      "text/html": [
       "<div>\n",
       "<style scoped>\n",
       "    .dataframe tbody tr th:only-of-type {\n",
       "        vertical-align: middle;\n",
       "    }\n",
       "\n",
       "    .dataframe tbody tr th {\n",
       "        vertical-align: top;\n",
       "    }\n",
       "\n",
       "    .dataframe thead th {\n",
       "        text-align: right;\n",
       "    }\n",
       "</style>\n",
       "<table border=\"1\" class=\"dataframe\">\n",
       "  <thead>\n",
       "    <tr style=\"text-align: right;\">\n",
       "      <th></th>\n",
       "      <th>Date</th>\n",
       "      <th>count</th>\n",
       "    </tr>\n",
       "  </thead>\n",
       "  <tbody>\n",
       "    <tr>\n",
       "      <th>0</th>\n",
       "      <td>2020-01</td>\n",
       "      <td>29288</td>\n",
       "    </tr>\n",
       "    <tr>\n",
       "      <th>1</th>\n",
       "      <td>2020-02</td>\n",
       "      <td>1580</td>\n",
       "    </tr>\n",
       "    <tr>\n",
       "      <th>2</th>\n",
       "      <td>2020-03</td>\n",
       "      <td>4301</td>\n",
       "    </tr>\n",
       "    <tr>\n",
       "      <th>3</th>\n",
       "      <td>2020-04</td>\n",
       "      <td>11597</td>\n",
       "    </tr>\n",
       "    <tr>\n",
       "      <th>4</th>\n",
       "      <td>2020-05</td>\n",
       "      <td>16974</td>\n",
       "    </tr>\n",
       "  </tbody>\n",
       "</table>\n",
       "</div>"
      ],
      "text/plain": [
       "      Date  count\n",
       "0  2020-01  29288\n",
       "1  2020-02   1580\n",
       "2  2020-03   4301\n",
       "3  2020-04  11597\n",
       "4  2020-05  16974"
      ]
     },
     "execution_count": 45,
     "metadata": {},
     "output_type": "execute_result"
    }
   ],
   "source": [
    "df_pandas.head(5)"
   ]
  },
  {
   "cell_type": "code",
   "execution_count": 46,
   "id": "32e5a7f8",
   "metadata": {},
   "outputs": [
    {
     "data": {
      "image/png": "[encoded data removed]",
      "text/plain": [
       "<Figure size 432x288 with 1 Axes>"
      ]
     },
     "metadata": {
      "needs_background": "light"
     },
     "output_type": "display_data"
    }
   ],
   "source": [
    "plt.plot(df_pandas[\"Date\"].values,df_pandas[\"count\"].values)\n",
    "\n",
    "plt.title(\"Number of papers per month\")\n",
    "plt.xlabel(\"Month\")\n",
    "plt.ylabel(\"number of journals\")\n",
    "plt.xticks(rotation=70)\n",
    "plt.show()"
   ]
  },
  {
   "cell_type": "code",
   "execution_count": null,
   "id": "32fb90fb",
   "metadata": {},
   "outputs": [],
   "source": []
  },
  {
   "cell_type": "code",
   "execution_count": null,
   "id": "bf76e55f",
   "metadata": {},
   "outputs": [],
   "source": []
  },
  {
   "cell_type": "code",
   "execution_count": null,
   "id": "ac8519c7",
   "metadata": {},
   "outputs": [],
   "source": []
  }
 ],
 "metadata": {
  "kernelspec": {
   "display_name": "Python 3",
   "language": "python",
   "name": "python3"
  },
  "language_info": {
   "codemirror_mode": {
    "name": "ipython",
    "version": 3
   },
   "file_extension": ".py",
   "mimetype": "text/x-python",
   "name": "python",
   "nbconvert_exporter": "python",
   "pygments_lexer": "ipython3",
   "version": "3.5.2"
  }
 },
 "nbformat": 4,
 "nbformat_minor": 5
}
